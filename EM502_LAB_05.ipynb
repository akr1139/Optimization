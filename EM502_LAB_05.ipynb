{
  "nbformat": 4,
  "nbformat_minor": 0,
  "metadata": {
    "colab": {
      "provenance": [],
      "authorship_tag": "ABX9TyO018hK5NPsF4EODFG1wWLB",
      "include_colab_link": true
    },
    "kernelspec": {
      "name": "python3",
      "display_name": "Python 3"
    },
    "language_info": {
      "name": "python"
    }
  },
  "cells": [
    {
      "cell_type": "markdown",
      "metadata": {
        "id": "view-in-github",
        "colab_type": "text"
      },
      "source": [
        "<a href=\"https://colab.research.google.com/github/akr1139/Optimization/blob/main/EM502_LAB_05.ipynb\" target=\"_parent\"><img src=\"https://colab.research.google.com/assets/colab-badge.svg\" alt=\"Open In Colab\"/></a>"
      ]
    },
    {
      "cell_type": "code",
      "execution_count": 1,
      "metadata": {
        "id": "71DvF4sw95ce"
      },
      "outputs": [],
      "source": [
        "import matplotlib.pyplot as plt\n",
        "from matplotlib import patches\n",
        "import matplotlib.lines as mlines\n",
        "import numpy as np\n",
        "from scipy import optimize as opt"
      ]
    },
    {
      "cell_type": "markdown",
      "source": [
        "* Optimality conditions for constrained nonlinear optimization problems(CNOP) and KKT conditions.\n",
        "\n",
        "* Consider the following nonlinear constrained optimization problem.\n",
        "$$\n",
        "\\begin{array}{cl}\n",
        "\\underset{x_1, x_2}{\\operatorname{minimize}} & f\\left(x_1, x_2\\right)=-x_1 \\\\\n",
        "\\text { subject to } & g_1\\left(x_1, x_2\\right)=x_2-\\left(1-x_1\\right)^3 \\leq 0 \\\\\n",
        "& g_2\\left(x_1, x_2\\right)=-x_2 \\leq 0\n",
        "\\end{array}\n",
        "$$"
      ],
      "metadata": {
        "id": "tRzcUbgi-Dm4"
      }
    },
    {
      "cell_type": "markdown",
      "source": [
        "a) Using the helper functions provided determine if this problem admits Lagrange multipliers.\n",
        "\n",
        "b) Can you write the gradient of the objective function as a linear combination of the gradients of the constraints?Why?"
      ],
      "metadata": {
        "id": "JRRJ1Q7o-NhV"
      }
    },
    {
      "cell_type": "code",
      "source": [
        "# Define the Lagrangian and its gradient\n",
        "import sympy as sym\n",
        "from sympy import pprint, latex, root\n",
        "from IPython.display import display, Latex\n",
        "\n",
        "x1 = sym.Symbol(\"x_1\")\n",
        "x2 = sym.Symbol(\"x_2\")\n",
        "m1 = sym.Symbol(r\"\\mu_1\")\n",
        "m2 = sym.Symbol(r\"\\mu_2\")\n",
        "f = -x1\n",
        "g1 = x2 - (1-x1)**3\n",
        "g2 = -x2\n",
        "L = f + m1*g1 + m2*g2\n",
        "display(Latex(r\"$L=$\"),L)\n",
        "# print(latex(L))\n",
        "\n",
        "dL = sym.Matrix([[sym.diff(L,x1)],[sym.diff(L,x2)]])\n",
        "display(Latex(r\"$\\nabla L=$\"),dL)\n",
        "# print(latex(dL))\n",
        "\n",
        "kkt = (sym.diff(L,x1), sym.diff(L,x2), m1*g1, m2*g2)\n",
        "sol = sym.solve(kkt,(x1,x2,m1,m2), dict=True)\n",
        "display(sol)"
      ],
      "metadata": {
        "colab": {
          "base_uri": "https://localhost:8080/",
          "height": 150
        },
        "id": "ch4wPxnU-alv",
        "outputId": "e6329545-0d5b-4052-ad75-5bd4348f04e5"
      },
      "execution_count": 2,
      "outputs": [
        {
          "output_type": "display_data",
          "data": {
            "text/plain": [
              "<IPython.core.display.Latex object>"
            ],
            "text/latex": "$L=$"
          },
          "metadata": {}
        },
        {
          "output_type": "display_data",
          "data": {
            "text/plain": [
              "\\mu_1*(x_2 - (1 - x_1)**3) - \\mu_2*x_2 - x_1"
            ],
            "text/latex": "$\\displaystyle \\mu_{1} \\left(x_{2} - \\left(1 - x_{1}\\right)^{3}\\right) - \\mu_{2} x_{2} - x_{1}$"
          },
          "metadata": {}
        },
        {
          "output_type": "display_data",
          "data": {
            "text/plain": [
              "<IPython.core.display.Latex object>"
            ],
            "text/latex": "$\\nabla L=$"
          },
          "metadata": {}
        },
        {
          "output_type": "display_data",
          "data": {
            "text/plain": [
              "Matrix([\n",
              "[3*\\mu_1*(1 - x_1)**2 - 1],\n",
              "[           \\mu_1 - \\mu_2]])"
            ],
            "text/latex": "$\\displaystyle \\left[\\begin{matrix}3 \\mu_{1} \\left(1 - x_{1}\\right)^{2} - 1\\\\\\mu_{1} - \\mu_{2}\\end{matrix}\\right]$"
          },
          "metadata": {}
        },
        {
          "output_type": "display_data",
          "data": {
            "text/plain": [
              "[]"
            ]
          },
          "metadata": {}
        }
      ]
    },
    {
      "cell_type": "code",
      "source": [
        "#The gradients of the constraints\n",
        "dg = sym.Matrix([[sym.diff(g1,x1),sym.diff(g1,x2)],[sym.diff(g2,x1),sym.diff(g2,x2)]])\n",
        "display(Latex(r\"$\\nabla \\mathbf{g}=$\"),dg)\n",
        "# print(latex(dg))\n",
        "display(Latex(r\"$\\nabla \\mathbf{g}(1,0)=$\"),dg.subs({x1:1,x2:0}))\n",
        "# print(latex(dg.subs({x1:1,x2:0})))\n",
        "display(Latex(r\"$\\mathrm{rank}(\\nabla \\mathbf{g}(1,0))=$\"),dg.subs({x1:1,x2:0}).rank())"
      ],
      "metadata": {
        "colab": {
          "base_uri": "https://localhost:8080/",
          "height": 179
        },
        "id": "GO66WZ8c_A2v",
        "outputId": "95f90512-c081-4477-9928-9833f5abc59b"
      },
      "execution_count": 3,
      "outputs": [
        {
          "output_type": "display_data",
          "data": {
            "text/plain": [
              "<IPython.core.display.Latex object>"
            ],
            "text/latex": "$\\nabla \\mathbf{g}=$"
          },
          "metadata": {}
        },
        {
          "output_type": "display_data",
          "data": {
            "text/plain": [
              "Matrix([\n",
              "[3*(1 - x_1)**2,  1],\n",
              "[             0, -1]])"
            ],
            "text/latex": "$\\displaystyle \\left[\\begin{matrix}3 \\left(1 - x_{1}\\right)^{2} & 1\\\\0 & -1\\end{matrix}\\right]$"
          },
          "metadata": {}
        },
        {
          "output_type": "display_data",
          "data": {
            "text/plain": [
              "<IPython.core.display.Latex object>"
            ],
            "text/latex": "$\\nabla \\mathbf{g}(1,0)=$"
          },
          "metadata": {}
        },
        {
          "output_type": "display_data",
          "data": {
            "text/plain": [
              "Matrix([\n",
              "[0,  1],\n",
              "[0, -1]])"
            ],
            "text/latex": "$\\displaystyle \\left[\\begin{matrix}0 & 1\\\\0 & -1\\end{matrix}\\right]$"
          },
          "metadata": {}
        },
        {
          "output_type": "display_data",
          "data": {
            "text/plain": [
              "<IPython.core.display.Latex object>"
            ],
            "text/latex": "$\\mathrm{rank}(\\nabla \\mathbf{g}(1,0))=$"
          },
          "metadata": {}
        },
        {
          "output_type": "display_data",
          "data": {
            "text/plain": [
              "1"
            ]
          },
          "metadata": {}
        }
      ]
    }
  ]
}